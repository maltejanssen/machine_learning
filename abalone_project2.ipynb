{
 "cells": [
  {
   "cell_type": "code",
   "execution_count": 2,
   "id": "6225ba82-c6bc-43c2-8b92-2d6e567f4777",
   "metadata": {},
   "outputs": [],
   "source": [
    "import pandas as pd\n",
    "import matplotlib.pyplot as plt\n",
    "import matplotlib\n",
    "\n",
    "#load data\n",
    "column_names = [\n",
    "    \"sex\",\n",
    "    \"length\",\n",
    "    \"diameter\",\n",
    "    \"height\",\n",
    "    \"whole_weight\",\n",
    "    \"shucked_weight\",\n",
    "    \"viscera_weight\",\n",
    "    \"shell_weight\",\n",
    "    \"rings\"\n",
    "] \n",
    "df = pd.read_csv(\"data/abalone.data\", names=column_names)"
   ]
  },
  {
   "cell_type": "code",
   "execution_count": 3,
   "id": "74671cec-f633-4eeb-b161-341cdf20101f",
   "metadata": {},
   "outputs": [
    {
     "name": "stdout",
     "output_type": "stream",
     "text": [
      "4177\n",
      "4175\n",
      "4173\n",
      "4016\n"
     ]
    }
   ],
   "source": [
    "#remove data as discussed in project 1\n",
    "print(len(df))\n",
    "df = df[df['height'] != 0]\n",
    "print(len(df))\n",
    "df = df[df['height'] < 0.4]\n",
    "print(len(df))\n",
    "df = df[(df[\"whole_weight\"] - df[\"shucked_weight\"] - df[\"viscera_weight\"] - df[\"shell_weight\"]) > 0]  \n",
    "print(len(df))"
   ]
  },
  {
   "cell_type": "code",
   "execution_count": 4,
   "id": "83996c02-6d2b-4506-a309-d24d088cc1fb",
   "metadata": {},
   "outputs": [],
   "source": [
    "y = df[\"rings\"]\n",
    "X = df.drop(columns=[\"rings\"])\n",
    "X = pd.get_dummies(X, columns=['sex', ])"
   ]
  },
  {
   "cell_type": "code",
   "execution_count": 5,
   "id": "7cf8fb16-e282-44c7-a32f-fc55399edeef",
   "metadata": {},
   "outputs": [],
   "source": [
    "#split data\n",
    "from sklearn.model_selection import train_test_split\n",
    "X_train, X_test, y_train, y_test = train_test_split(X, y, test_size = 0.2, random_state = 2)"
   ]
  },
  {
   "cell_type": "code",
   "execution_count": 7,
   "id": "40ee2b93-f79d-4bb2-a76b-f4f5ecb4e146",
   "metadata": {},
   "outputs": [],
   "source": [
    "#normalise data\n",
    "numerical_columns = X.select_dtypes(\"number\").columns\n",
    "mean = X_train[numerical_columns].mean(axis=0)\n",
    "std = X_train[numerical_columns].std(axis=0)\n",
    "X_train[numerical_columns] = (X_train[numerical_columns] - mean[numerical_columns]) / std[numerical_columns]\n",
    "X_test[numerical_columns] = (X_test[numerical_columns] - mean[numerical_columns]) / std[numerical_columns]"
   ]
  },
  {
   "cell_type": "markdown",
   "id": "3243888f-9998-4449-b894-75228da3f2ce",
   "metadata": {},
   "source": [
    "The task is a bit senseless for our dataset, as parameter optimisation in this case is to combat overfitting. Our model does not overfit at all though."
   ]
  },
  {
   "cell_type": "code",
   "execution_count": 8,
   "id": "b867a15c-7e11-4108-ad86-00351157be7c",
   "metadata": {},
   "outputs": [
    {
     "data": {
      "text/plain": [
       "<Axes: xlabel='alpha'>"
      ]
     },
     "execution_count": 8,
     "metadata": {},
     "output_type": "execute_result"
    },
    {
     "data": {
      "image/png": "[encoded data removed]",
      "text/plain": [
       "<Figure size 640x480 with 1 Axes>"
      ]
     },
     "metadata": {},
     "output_type": "display_data"
    }
   ],
   "source": [
    "from sklearn.linear_model import Ridge\n",
    "from sklearn.model_selection import KFold\n",
    "from sklearn.model_selection import cross_val_score \n",
    "import numpy as np\n",
    "\n",
    "def cross_validation(alpha):\n",
    "    k = 10\n",
    "    kf = KFold(n_splits=k, shuffle=True, random_state=42)\n",
    "    model = Ridge(alpha)\n",
    "    scores = cross_val_score(model, X_train, y_train, cv=kf, scoring='neg_mean_squared_error')\n",
    "    return abs(scores.mean())\n",
    "\n",
    "r_alphas = np.logspace(-5, 2, 100)# initiate the cross validation over alphas\n",
    "performance = []\n",
    "for a in r_alphas:\n",
    "    performance.append({\"alpha\": a, \"error\": cross_validation(a)})\n",
    "\n",
    "d = pd.DataFrame(performance)\n",
    "d.plot( 'alpha' , 'error' )\n",
    "\n"
   ]
  },
  {
   "cell_type": "code",
   "execution_count": 9,
   "id": "23539d44-524a-4b37-a0ae-65d74025ce12",
   "metadata": {},
   "outputs": [
    {
     "name": "stdout",
     "output_type": "stream",
     "text": [
      "[-0.1989312   0.90577108  0.89922313  5.31892182 -4.82584779 -1.459709\n",
      "  0.8640796   0.26448208 -0.57313999  0.3086579 ]\n",
      "9.966532270402203\n"
     ]
    },
    {
     "data": {
      "text/html": [
       "<div>\n",
       "<style scoped>\n",
       "    .dataframe tbody tr th:only-of-type {\n",
       "        vertical-align: middle;\n",
       "    }\n",
       "\n",
       "    .dataframe tbody tr th {\n",
       "        vertical-align: top;\n",
       "    }\n",
       "\n",
       "    .dataframe thead th {\n",
       "        text-align: right;\n",
       "    }\n",
       "</style>\n",
       "<table border=\"1\" class=\"dataframe\">\n",
       "  <thead>\n",
       "    <tr style=\"text-align: right;\">\n",
       "      <th></th>\n",
       "      <th>length</th>\n",
       "      <th>diameter</th>\n",
       "      <th>height</th>\n",
       "      <th>whole_weight</th>\n",
       "      <th>shucked_weight</th>\n",
       "      <th>viscera_weight</th>\n",
       "      <th>shell_weight</th>\n",
       "      <th>sex_F</th>\n",
       "      <th>sex_I</th>\n",
       "      <th>sex_M</th>\n",
       "    </tr>\n",
       "  </thead>\n",
       "  <tbody>\n",
       "    <tr>\n",
       "      <th>4172</th>\n",
       "      <td>0.317322</td>\n",
       "      <td>0.401792</td>\n",
       "      <td>0.655953</td>\n",
       "      <td>0.093682</td>\n",
       "      <td>0.030559</td>\n",
       "      <td>0.515571</td>\n",
       "      <td>0.053908</td>\n",
       "      <td>True</td>\n",
       "      <td>False</td>\n",
       "      <td>False</td>\n",
       "    </tr>\n",
       "    <tr>\n",
       "      <th>1195</th>\n",
       "      <td>1.501890</td>\n",
       "      <td>1.424421</td>\n",
       "      <td>0.788073</td>\n",
       "      <td>0.772614</td>\n",
       "      <td>1.252074</td>\n",
       "      <td>0.488177</td>\n",
       "      <td>0.429060</td>\n",
       "      <td>True</td>\n",
       "      <td>False</td>\n",
       "      <td>False</td>\n",
       "    </tr>\n",
       "    <tr>\n",
       "      <th>3365</th>\n",
       "      <td>-0.740329</td>\n",
       "      <td>-1.029887</td>\n",
       "      <td>-0.665249</td>\n",
       "      <td>-0.978906</td>\n",
       "      <td>-1.039116</td>\n",
       "      <td>-0.918038</td>\n",
       "      <td>-0.876755</td>\n",
       "      <td>False</td>\n",
       "      <td>True</td>\n",
       "      <td>False</td>\n",
       "    </tr>\n",
       "    <tr>\n",
       "      <th>445</th>\n",
       "      <td>0.275016</td>\n",
       "      <td>0.452924</td>\n",
       "      <td>1.316553</td>\n",
       "      <td>-0.260098</td>\n",
       "      <td>-0.363770</td>\n",
       "      <td>-0.488868</td>\n",
       "      <td>0.241484</td>\n",
       "      <td>True</td>\n",
       "      <td>False</td>\n",
       "      <td>False</td>\n",
       "    </tr>\n",
       "    <tr>\n",
       "      <th>1952</th>\n",
       "      <td>0.951912</td>\n",
       "      <td>0.810844</td>\n",
       "      <td>-0.136768</td>\n",
       "      <td>0.529262</td>\n",
       "      <td>0.565397</td>\n",
       "      <td>0.620581</td>\n",
       "      <td>0.367737</td>\n",
       "      <td>False</td>\n",
       "      <td>True</td>\n",
       "      <td>False</td>\n",
       "    </tr>\n",
       "  </tbody>\n",
       "</table>\n",
       "</div>"
      ],
      "text/plain": [
       "        length  diameter    height  whole_weight  shucked_weight  \\\n",
       "4172  0.317322  0.401792  0.655953      0.093682        0.030559   \n",
       "1195  1.501890  1.424421  0.788073      0.772614        1.252074   \n",
       "3365 -0.740329 -1.029887 -0.665249     -0.978906       -1.039116   \n",
       "445   0.275016  0.452924  1.316553     -0.260098       -0.363770   \n",
       "1952  0.951912  0.810844 -0.136768      0.529262        0.565397   \n",
       "\n",
       "      viscera_weight  shell_weight  sex_F  sex_I  sex_M  \n",
       "4172        0.515571      0.053908   True  False  False  \n",
       "1195        0.488177      0.429060   True  False  False  \n",
       "3365       -0.918038     -0.876755  False   True  False  \n",
       "445        -0.488868      0.241484   True  False  False  \n",
       "1952        0.620581      0.367737  False   True  False  "
      ]
     },
     "execution_count": 9,
     "metadata": {},
     "output_type": "execute_result"
    }
   ],
   "source": [
    "model = Ridge(alpha=0.1)\n",
    "model.fit(X_train, y_train)\n",
    "coefficients = model.coef_\n",
    "intercept = model.intercept_\n",
    "\n",
    "print(coefficients)\n",
    "print(intercept)\n",
    "X_train.head()\n"
   ]
  },
  {
   "cell_type": "code",
   "execution_count": 10,
   "id": "76cee123-9b60-41b8-8c9b-aea749de16cd",
   "metadata": {},
   "outputs": [
    {
     "name": "stdout",
     "output_type": "stream",
     "text": [
      "Linear Regression-Training set score: 0.55\n",
      "Linear Regression-Test set score: 0.52\n"
     ]
    },
    {
     "name": "stderr",
     "output_type": "stream",
     "text": [
      "/home/malte/Documents/machine_learning/excercises/abalone2/machine_learning/.venv/lib/python3.13/site-packages/scipy/_lib/_util.py:1233: LinAlgWarning: Ill-conditioned matrix (rcond=8.26321e-18): result may not be accurate.\n",
      "  return f(*arrays, *other_args, **kwargs)\n"
     ]
    }
   ],
   "source": [
    "model = Ridge(alpha=0.0000000000000000000001).fit(X_train, y_train)\n",
    "print(f\"Linear Regression-Training set score: {model.score(X_train, y_train):.2f}\")\n",
    "print(f\"Linear Regression-Test set score: {model.score(X_test, y_test):.2f}\")"
   ]
  },
  {
   "cell_type": "code",
   "execution_count": 11,
   "id": "5bc84cc8-7e99-4088-98ff-2b3a7c8d7e77",
   "metadata": {},
   "outputs": [
    {
     "name": "stdout",
     "output_type": "stream",
     "text": [
      "Linear Regression-Training set score: 0.55\n",
      "Linear Regression-Test set score: 0.52\n"
     ]
    }
   ],
   "source": [
    "from sklearn.linear_model import LinearRegression\n",
    "lr = LinearRegression().fit(X_train, y_train)\n",
    "\n",
    "print(f\"Linear Regression-Training set score: {lr.score(X_train, y_train):.2f}\")\n",
    "print(f\"Linear Regression-Test set score: {lr.score(X_test, y_test):.2f}\")"
   ]
  },
  {
   "cell_type": "markdown",
   "id": "b2d05c07-3caa-472f-a11b-efef76cae2ff",
   "metadata": {},
   "source": [
    "This also holds in general: When the regularization λ is small, the models have high variance\n",
    "and low bias. When λ is large, the models have low variance (they are all dragged towards the\n",
    "x-axis) but high bias. As a rule, varying λ to search for an optimal value of the generalization error\n",
    "will therefore lead to better models. In fig. 14.3 the variable λ is tweaked from a very small value\n",
    "of λ = 10−6 to a higher value λ = 100 and the training and test error (normalized by the number\n",
    "of observations) of the small dataset in fig. 14.1 displayed. The three particular values plotted in\n",
    "fig. 14.1 are plotted as circles. We see that the training error generally increases as λ increases (after\n",
    "all, for small λ the model will overfit the training data set), however, the test error has an optimum\n",
    "when λ ≈ 10−2. In practice when we search for the optimal value of λ, we test S different values\n",
    "of λ, λ1, . . . , λS selected beforehand and then compare each of the corresponding linear regression\n",
    "models using cross-validation for model selection."
   ]
  },
  {
   "cell_type": "code",
   "execution_count": 42,
   "id": "95f6fa52-feba-4eca-b7b3-c2e6888de065",
   "metadata": {},
   "outputs": [
    {
     "name": "stdout",
     "output_type": "stream",
     "text": [
      "0       15\n",
      "1        7\n",
      "2        9\n",
      "3       10\n",
      "4        7\n",
      "        ..\n",
      "4172    11\n",
      "4173    10\n",
      "4174     9\n",
      "4175    10\n",
      "4176    12\n",
      "Name: rings, Length: 4016, dtype: int64\n"
     ]
    }
   ],
   "source": [
    "print(y)"
   ]
  },
  {
   "cell_type": "code",
   "execution_count": 64,
   "id": "08e594ae-06e0-4480-9777-0b9ce9c8363a",
   "metadata": {},
   "outputs": [
    {
     "name": "stderr",
     "output_type": "stream",
     "text": [
      "/home/malte/Documents/machine_learning/excercises/abalone2/machine_learning/.venv/lib/python3.13/site-packages/sklearn/neural_network/_multilayer_perceptron.py:781: ConvergenceWarning: Stochastic Optimizer: Maximum iterations (1000) reached and the optimization hasn't converged yet.\n",
      "  warnings.warn(\n"
     ]
    },
    {
     "name": "stdout",
     "output_type": "stream",
     "text": [
      "linear_regression_scores: [{'fold': 1, 'alpha': np.float64(0.05590810182512223), 'error': 4.6909219504994635}, {'fold': 2, 'alpha': np.float64(0.040370172585965536), 'error': 4.82249634761566}, {'fold': 3, 'alpha': np.float64(0.10722672220103231), 'error': 4.705752574383518}, {'fold': 4, 'alpha': np.float64(0.06579332246575675), 'error': 4.716782000257832}, {'fold': 5, 'alpha': np.float64(0.047508101621027934), 'error': 4.741400530295358}, {'fold': 6, 'alpha': np.float64(0.029150530628251757), 'error': 4.8679793662435}, {'fold': 7, 'alpha': np.float64(0.05590810182512223), 'error': 4.641218019038885}, {'fold': 8, 'alpha': np.float64(0.047508101621027934), 'error': 4.726187272567212}, {'fold': 9, 'alpha': np.float64(0.1261856883066021), 'error': 4.764483308743207}, {'fold': 10, 'alpha': np.float64(0.047508101621027934), 'error': 4.774017962715395}]\n",
      "baseline_scores: [{'fold': 1, 'error': 10.977558181817649}, {'fold': 2, 'error': 8.98924895328737}, {'fold': 3, 'error': 10.495731901539866}, {'fold': 4, 'error': 10.164654062731998}, {'fold': 5, 'error': 11.243693039255602}, {'fold': 6, 'error': 7.9633846457785555}, {'fold': 7, 'error': 11.961444564412387}, {'fold': 8, 'error': 11.437399859434226}, {'fold': 9, 'error': 10.191917163067608}, {'fold': 10, 'error': 10.419537130021299}]\n",
      "ann_scores: [{'fold': 1, 'hidden_layer_sizes': (75,), 'error': 5.143985904330361}, {'fold': 2, 'hidden_layer_sizes': (75,), 'error': 3.8039816412920113}, {'fold': 3, 'hidden_layer_sizes': (75,), 'error': 5.006049467777214}, {'fold': 4, 'hidden_layer_sizes': (75,), 'error': 4.722445793921342}, {'fold': 5, 'hidden_layer_sizes': (75,), 'error': 4.591535494704892}, {'fold': 6, 'hidden_layer_sizes': (75,), 'error': 3.4550441935001555}, {'fold': 7, 'hidden_layer_sizes': (75,), 'error': 5.433169157578235}, {'fold': 8, 'hidden_layer_sizes': (75,), 'error': 4.448848689344257}, {'fold': 9, 'hidden_layer_sizes': (75,), 'error': 4.458186933508443}, {'fold': 10, 'hidden_layer_sizes': (75,), 'error': 4.193935587949348}]\n"
     ]
    }
   ],
   "source": [
    "from sklearn.model_selection import GridSearchCV\n",
    "from sklearn.metrics import mean_squared_error\n",
    "from sklearn.neural_network import MLPRegressor\n",
    "def grid_search(X, y, model, inner_cv, param_grid=None):\n",
    "    gs = GridSearchCV(\n",
    "        estimator=model, param_grid=param_grid, cv=inner_cv, n_jobs=2\n",
    "    )\n",
    "    best_model = gs.fit(X, y)\n",
    "    return gs.best_params_, best_model\n",
    "\n",
    "def calculate_mse(X, y, model):  \n",
    "    y_pred = model.predict(X)\n",
    "    mse = mean_squared_error(y, y_pred)\n",
    "    return mse\n",
    "\n",
    "outer_cv = KFold(n_splits=10, shuffle=True, random_state=1)\n",
    "inner_cv = KFold(n_splits=10, shuffle=True, random_state=1)\n",
    "\n",
    "\n",
    "def cross_validation_baseline(y_train, y_test):\n",
    "    linear_regression_model = LinearRegression(fit_intercept=True)\n",
    "    linear_regression_model.fit(X=np.zeros((len(y_train), 1)), y=y_train)\n",
    "    X = np.zeros((len(y_test), 1))\n",
    "    return calculate_mse(X, y_test, linear_regression_model)\n",
    "    \n",
    "\n",
    "baseline_scores = []\n",
    "linear_regression_scores = []\n",
    "ann_scores = []\n",
    "ann_param_grid = {\n",
    "    'hidden_layer_sizes': [(h,) for h in range(5, 105, 10)]  \n",
    "}\n",
    "ridge_grid = {\n",
    "    'alpha': np.logspace(-5, 2, 100)\n",
    "}\n",
    "for fold, (train_idx, test_idx) in enumerate(outer_cv.split(X), 1):\n",
    "    X_train = X.iloc[train_idx]\n",
    "    X_test = X.iloc[test_idx]\n",
    "    y_train = y.iloc[train_idx]\n",
    "    y_test = y.iloc[test_idx]\n",
    "    \n",
    "    linear_regression_model = Ridge()\n",
    "\n",
    "    baseline_scores.append({\"fold\": fold, \"error\": cross_validation_baseline(y_train, y_test)})\n",
    "    best_params, best_model = grid_search(X_train, y_train, linear_regression_model, inner_cv, ridge_grid)\n",
    "    linear_regression_scores.append({\"fold\": fold, \"alpha\": best_params[\"alpha\"], \"error\": calculate_mse(X_train, y_train, best_model)})\n",
    "\n",
    "    ann_model = MLPRegressor(max_iter=1000, random_state=1)\n",
    "    best_ann_params, best_ann_model = grid_search(X_train, y_train, ann_model, inner_cv, ann_param_grid)\n",
    "    ann_scores.append({\n",
    "        \"fold\": fold,\n",
    "        \"hidden_layer_sizes\": best_ann_params[\"hidden_layer_sizes\"],\n",
    "        \"error\": calculate_mse(X_test, y_test, best_ann_model)\n",
    "    })\n",
    "\n",
    "print(f\"linear_regression_scores: {linear_regression_scores}\")\n",
    "print(f\"baseline_scores: {baseline_scores}\")\n",
    "print(f\"ann_scores: {ann_scores}\")\n",
    "\n",
    "\n",
    "\n",
    "\n",
    "\n",
    "\n",
    "\n",
    "\n",
    "\n",
    "\n",
    "\n",
    "\n",
    "    "
   ]
  },
  {
   "cell_type": "code",
   "execution_count": 65,
   "id": "7b5fc07b-a2fd-47c2-9d29-10be23eb7ec9",
   "metadata": {},
   "outputs": [
    {
     "name": "stdout",
     "output_type": "stream",
     "text": [
      "\\begin{table}[h]\n",
      "\\centering\n",
      "\\begin{tabular}{c c c c c c}\n",
      "\\toprule\n",
      "Outer fold & \\multicolumn{2}{c}{ANN} & \\multicolumn{2}{c}{Linear regression} & baseline \\\\\n",
      "\\cmidrule(lr){2-3} \\cmidrule(lr){4-5}\n",
      "$i$ & $h_i^*$ & $E_i^{\\text{test}}$ & $\\lambda_i^*$ & $E_i^{\\text{test}}$ & $E_i^{\\text{test}}$ \\\\\n",
      "\\midrule\n",
      "1 & 75.0 & 5.14 & 0.056 & 4.69 & 10.98 \\\\\n",
      "2 & 75.0 & 3.80 & 0.04 & 4.82 & 8.99 \\\\\n",
      "3 & 75.0 & 5.01 & 0.11 & 4.71 & 10.50 \\\\\n",
      "4 & 75.0 & 4.72 & 0.066 & 4.72 & 10.16 \\\\\n",
      "5 & 75.0 & 4.59 & 0.048 & 4.74 & 11.24 \\\\\n",
      "6 & 75.0 & 3.46 & 0.029 & 4.87 & 7.96 \\\\\n",
      "7 & 75.0 & 5.43 & 0.056 & 4.64 & 11.96 \\\\\n",
      "8 & 75.0 & 4.45 & 0.048 & 4.73 & 11.44 \\\\\n",
      "9 & 75.0 & 4.46 & 0.13 & 4.76 & 10.19 \\\\\n",
      "10 & 75.0 & 4.19 & 0.048 & 4.77 & 10.42 \\\\\n",
      "\\bottomrule\n",
      "\\end{tabular}\n",
      "\\end{table}\n",
      "\n"
     ]
    }
   ],
   "source": [
    "df_baseline = pd.DataFrame(baseline_scores).set_index(\"fold\")\n",
    "df_lr = pd.DataFrame(linear_regression_scores).set_index(\"fold\")\n",
    "df_ann = pd.DataFrame(ann_scores).set_index(\"fold\")\n",
    "\n",
    "df = pd.DataFrame({\n",
    "    \"h_i*\": [x[0] for x in df_ann[\"hidden_layer_sizes\"]],\n",
    "    \"E_i^test (ANN)\": df_ann[\"error\"],\n",
    "    \"λ_i*\": df_lr[\"alpha\"],\n",
    "    \"E_i^test (LR)\": df_lr[\"error\"],\n",
    "    \"E_i^test (baseline)\": df_baseline[\"error\"]\n",
    "})\n",
    "\n",
    "latex_table = r\"\"\"\\begin{table}[h]\n",
    "\\centering\n",
    "\\begin{tabular}{c c c c c c}\n",
    "\\toprule\n",
    "Outer fold & \\multicolumn{2}{c}{ANN} & \\multicolumn{2}{c}{Linear regression} & baseline \\\\\n",
    "\\cmidrule(lr){2-3} \\cmidrule(lr){4-5}\n",
    "$i$ & $h_i^*$ & $E_i^{\\text{test}}$ & $\\lambda_i^*$ & $E_i^{\\text{test}}$ & $E_i^{\\text{test}}$ \\\\\n",
    "\\midrule\n",
    "\"\"\"\n",
    "\n",
    "for i, row in df.iterrows():\n",
    "    latex_table += f\"{i} & {row['h_i*']} & {row['E_i^test (ANN)']:.2f} & {row['λ_i*']:.2g} & {row['E_i^test (LR)']:.2f} & {row['E_i^test (baseline)']:.2f} \\\\\\\\\\n\"\n",
    "\n",
    "latex_table += r\"\"\"\\bottomrule\n",
    "\\end{tabular}\n",
    "\\end{table}\n",
    "\"\"\"\n",
    "\n",
    "print(latex_table)\n"
   ]
  },
  {
   "cell_type": "code",
   "execution_count": 70,
   "id": "66ffa8ba-ad71-42dd-ae0c-f745800d52e8",
   "metadata": {},
   "outputs": [
    {
     "data": {
      "text/html": [
       "<div>\n",
       "<style scoped>\n",
       "    .dataframe tbody tr th:only-of-type {\n",
       "        vertical-align: middle;\n",
       "    }\n",
       "\n",
       "    .dataframe tbody tr th {\n",
       "        vertical-align: top;\n",
       "    }\n",
       "\n",
       "    .dataframe thead th {\n",
       "        text-align: right;\n",
       "    }\n",
       "</style>\n",
       "<table border=\"1\" class=\"dataframe\">\n",
       "  <thead>\n",
       "    <tr style=\"text-align: right;\">\n",
       "      <th></th>\n",
       "      <th>h_i*</th>\n",
       "      <th>E_i^test (ANN)</th>\n",
       "      <th>λ_i*</th>\n",
       "      <th>E_i^test (LR)</th>\n",
       "      <th>E_i^test (baseline)</th>\n",
       "    </tr>\n",
       "    <tr>\n",
       "      <th>Outer fold</th>\n",
       "      <th></th>\n",
       "      <th></th>\n",
       "      <th></th>\n",
       "      <th></th>\n",
       "      <th></th>\n",
       "    </tr>\n",
       "  </thead>\n",
       "  <tbody>\n",
       "    <tr>\n",
       "      <th>1</th>\n",
       "      <td>75</td>\n",
       "      <td>5.143986</td>\n",
       "      <td>0.055908</td>\n",
       "      <td>4.690922</td>\n",
       "      <td>10.977558</td>\n",
       "    </tr>\n",
       "    <tr>\n",
       "      <th>2</th>\n",
       "      <td>75</td>\n",
       "      <td>3.803982</td>\n",
       "      <td>0.040370</td>\n",
       "      <td>4.822496</td>\n",
       "      <td>8.989249</td>\n",
       "    </tr>\n",
       "    <tr>\n",
       "      <th>3</th>\n",
       "      <td>75</td>\n",
       "      <td>5.006049</td>\n",
       "      <td>0.107227</td>\n",
       "      <td>4.705753</td>\n",
       "      <td>10.495732</td>\n",
       "    </tr>\n",
       "    <tr>\n",
       "      <th>4</th>\n",
       "      <td>75</td>\n",
       "      <td>4.722446</td>\n",
       "      <td>0.065793</td>\n",
       "      <td>4.716782</td>\n",
       "      <td>10.164654</td>\n",
       "    </tr>\n",
       "    <tr>\n",
       "      <th>5</th>\n",
       "      <td>75</td>\n",
       "      <td>4.591535</td>\n",
       "      <td>0.047508</td>\n",
       "      <td>4.741401</td>\n",
       "      <td>11.243693</td>\n",
       "    </tr>\n",
       "    <tr>\n",
       "      <th>6</th>\n",
       "      <td>75</td>\n",
       "      <td>3.455044</td>\n",
       "      <td>0.029151</td>\n",
       "      <td>4.867979</td>\n",
       "      <td>7.963385</td>\n",
       "    </tr>\n",
       "    <tr>\n",
       "      <th>7</th>\n",
       "      <td>75</td>\n",
       "      <td>5.433169</td>\n",
       "      <td>0.055908</td>\n",
       "      <td>4.641218</td>\n",
       "      <td>11.961445</td>\n",
       "    </tr>\n",
       "    <tr>\n",
       "      <th>8</th>\n",
       "      <td>75</td>\n",
       "      <td>4.448849</td>\n",
       "      <td>0.047508</td>\n",
       "      <td>4.726187</td>\n",
       "      <td>11.437400</td>\n",
       "    </tr>\n",
       "    <tr>\n",
       "      <th>9</th>\n",
       "      <td>75</td>\n",
       "      <td>4.458187</td>\n",
       "      <td>0.126186</td>\n",
       "      <td>4.764483</td>\n",
       "      <td>10.191917</td>\n",
       "    </tr>\n",
       "    <tr>\n",
       "      <th>10</th>\n",
       "      <td>75</td>\n",
       "      <td>4.193936</td>\n",
       "      <td>0.047508</td>\n",
       "      <td>4.774018</td>\n",
       "      <td>10.419537</td>\n",
       "    </tr>\n",
       "  </tbody>\n",
       "</table>\n",
       "</div>"
      ],
      "text/plain": [
       "            h_i*  E_i^test (ANN)      λ_i*  E_i^test (LR)  E_i^test (baseline)\n",
       "Outer fold                                                                    \n",
       "1             75        5.143986  0.055908       4.690922            10.977558\n",
       "2             75        3.803982  0.040370       4.822496             8.989249\n",
       "3             75        5.006049  0.107227       4.705753            10.495732\n",
       "4             75        4.722446  0.065793       4.716782            10.164654\n",
       "5             75        4.591535  0.047508       4.741401            11.243693\n",
       "6             75        3.455044  0.029151       4.867979             7.963385\n",
       "7             75        5.433169  0.055908       4.641218            11.961445\n",
       "8             75        4.448849  0.047508       4.726187            11.437400\n",
       "9             75        4.458187  0.126186       4.764483            10.191917\n",
       "10            75        4.193936  0.047508       4.774018            10.419537"
      ]
     },
     "execution_count": 70,
     "metadata": {},
     "output_type": "execute_result"
    }
   ],
   "source": [
    "df\n",
    "\n"
   ]
  },
  {
   "cell_type": "code",
   "execution_count": null,
   "id": "ffd54246-d3ef-4aac-92a5-fbf6a82fe1da",
   "metadata": {},
   "outputs": [],
   "source": []
  }
 ],
 "metadata": {
  "kernelspec": {
   "display_name": "Python 3 (ipykernel)",
   "language": "python",
   "name": "python3"
  },
  "language_info": {
   "codemirror_mode": {
    "name": "ipython",
    "version": 3
   },
   "file_extension": ".py",
   "mimetype": "text/x-python",
   "name": "python",
   "nbconvert_exporter": "python",
   "pygments_lexer": "ipython3",
   "version": "3.13.7"
  }
 },
 "nbformat": 4,
 "nbformat_minor": 5
}
